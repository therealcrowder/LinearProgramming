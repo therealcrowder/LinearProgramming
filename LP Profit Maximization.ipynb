{
 "cells": [
  {
   "cell_type": "markdown",
   "metadata": {},
   "source": [
    "# Linear Programming Example\n",
    "### Python and PuLP\n",
    "#### Maximizing Profit Example"
   ]
  },
  {
   "cell_type": "markdown",
   "metadata": {},
   "source": [
    "The business we are going to help today works **30 Day Cycles** and we have one cycle to show what value we can provide.\n",
    "\n",
    "The company has **one robot**, **two engineers** and **one detailer** in the factory. To throw a wrench in the machine the detailer has some holiday off, so that person only has **21 days** available. Nice of them to give at least one human some days off. Jeez.\n",
    "\n",
    "This small company makes cars. It's very small and makes two models:\n",
    "\n",
    "Car A\n",
    "and\n",
    "Car B\n",
    "\n",
    "As you can imagine with product differentiation we have some different inputs which lead to different outputs. We are going to break down the time required to produced by job type.\n",
    "\n",
    "**Robot time**: Car A - 3 days; Car B - 4 days\n",
    "\n",
    "**Engineer time**: Car A - 5 days; Car B - 6 days\n",
    "\n",
    "**Detailer time**: Car A - 1.5 days; Car B - 3 days\n",
    "\n",
    "** Profit Information **\n",
    "Car A provides a profit of 30K and Car has a profit of 45K\n",
    "\n",
    "Currently the company is producing 4 of each model per cycle. This nets out 300K. Can we do better?"
   ]
  },
  {
   "cell_type": "markdown",
   "metadata": {},
   "source": [
    "### How do we model this?"
   ]
  },
  {
   "cell_type": "markdown",
   "metadata": {},
   "source": [
    "Profit Maximization = 30000A + 45000B\n",
    "* Remember this is just from profit that each car repersents. 30K for Car A and 45K for Car B *\n",
    "\n",
    "Subject to:\n",
    "\n",
    "**A $\\ge$ 0**\n",
    "*Our Robot must work*\n",
    "\n",
    "**B $\\ge$ 0**\n",
    "*So do our engineers*\n",
    "\n",
    "**3A + 4B $\\le$ 30**\n",
    "*Robot Time*\n",
    "\n",
    "**5A + 4B $\\le$ 60**\n",
    "*Engineer time, remember we have two*\n",
    "\n",
    "**1.5A + 3B $\\le$ 21**\n",
    "*Lucky worker gets some time off*\n",
    "\n",
    "So you see our less than or equal to is the days that they can work."
   ]
  },
  {
   "cell_type": "code",
   "execution_count": 2,
   "metadata": {},
   "outputs": [],
   "source": [
    "import pulp"
   ]
  },
  {
   "cell_type": "markdown",
   "metadata": {},
   "source": [
    "Instantiate our problem class"
   ]
  },
  {
   "cell_type": "code",
   "execution_count": 3,
   "metadata": {
    "collapsed": true
   },
   "outputs": [],
   "source": [
    "model = pulp.LpProblem(\"Profit maximising problem\", pulp.LpMaximize)"
   ]
  },
  {
   "cell_type": "markdown",
   "metadata": {},
   "source": [
    "We can't sell half of the car so we won't be using continuous, so we use integer."
   ]
  },
  {
   "cell_type": "code",
   "execution_count": 5,
   "metadata": {
    "collapsed": true
   },
   "outputs": [],
   "source": [
    "A = pulp.LpVariable('A', lowBound = 0, cat = 'Integer')\n",
    "# Set up for car B as well\n",
    "B = pulp.LpVariable('B', lowBound = 0, cat = 'Integer')"
   ]
  },
  {
   "cell_type": "code",
   "execution_count": 6,
   "metadata": {
    "collapsed": true
   },
   "outputs": [],
   "source": [
    "model += 30000 * A + 45000 * B, \"Profit\"\n",
    "\n",
    "#Constrained by\n",
    "#from above\n",
    "model += 3 * A + 4 * B <= 30\n",
    "model += 5 * A + 6 * B <= 60\n",
    "model += 1.5 * A + 3 * B <= 21"
   ]
  },
  {
   "cell_type": "code",
   "execution_count": 7,
   "metadata": {},
   "outputs": [
    {
     "data": {
      "text/plain": [
       "'Optimal'"
      ]
     },
     "execution_count": 7,
     "metadata": {},
     "output_type": "execute_result"
    }
   ],
   "source": [
    "# Solve our problem\n",
    "model.solve()\n",
    "pulp.LpStatus[model.status]"
   ]
  },
  {
   "cell_type": "code",
   "execution_count": 18,
   "metadata": {},
   "outputs": [
    {
     "name": "stdout",
     "output_type": "stream",
     "text": [
      "2.0\n",
      "6.0\n"
     ]
    }
   ],
   "source": [
    "# Print our decision variable values\n",
    "print(A.varValue)\n",
    "print(B.varValue)"
   ]
  },
  {
   "cell_type": "markdown",
   "metadata": {},
   "source": [
    "We we make 2 of Car A and 6 of Car B given our resources.\n",
    "\n",
    "This nets us:"
   ]
  },
  {
   "cell_type": "code",
   "execution_count": 21,
   "metadata": {},
   "outputs": [
    {
     "name": "stdout",
     "output_type": "stream",
     "text": [
      "330000.0\n"
     ]
    }
   ],
   "source": [
    "print(pulp.value(model.objective))"
   ]
  },
  {
   "cell_type": "markdown",
   "metadata": {},
   "source": [
    "That is an increase of 30K over what we were making. **Take that times 12 cycles in a year and we get 360K**. We have more than paid for ourselves and our client gets some good value."
   ]
  },
  {
   "cell_type": "code",
   "execution_count": null,
   "metadata": {
    "collapsed": true
   },
   "outputs": [],
   "source": []
  }
 ],
 "metadata": {
  "kernelspec": {
   "display_name": "Python 3",
   "language": "python",
   "name": "python3"
  },
  "language_info": {
   "codemirror_mode": {
    "name": "ipython",
    "version": 3
   },
   "file_extension": ".py",
   "mimetype": "text/x-python",
   "name": "python",
   "nbconvert_exporter": "python",
   "pygments_lexer": "ipython3",
   "version": "3.6.1"
  }
 },
 "nbformat": 4,
 "nbformat_minor": 2
}
